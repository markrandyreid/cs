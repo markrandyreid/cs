{
  "nbformat": 4,
  "nbformat_minor": 0,
  "metadata": {
    "celltoolbar": "Slideshow",
    "kernelspec": {
      "display_name": "Python [default]",
      "language": "python",
      "name": "python3"
    },
    "language_info": {
      "codemirror_mode": {
        "name": "ipython",
        "version": 3
      },
      "file_extension": ".py",
      "mimetype": "text/x-python",
      "name": "python",
      "nbconvert_exporter": "python",
      "pygments_lexer": "ipython3",
      "version": "3.5.3"
    },
    "colab": {
      "provenance": [],
      "toc_visible": true,
      "include_colab_link": true
    }
  },
  "cells": [
    {
      "cell_type": "markdown",
      "metadata": {
        "id": "view-in-github",
        "colab_type": "text"
      },
      "source": [
        "<a href=\"https://colab.research.google.com/github/markrandyreid/cs/blob/main/section.4.1.4.datatype_lists_methods.ipynb\" target=\"_parent\"><img src=\"https://colab.research.google.com/assets/colab-badge.svg\" alt=\"Open In Colab\"/></a>"
      ]
    },
    {
      "cell_type": "markdown",
      "metadata": {
        "id": "mECSW7-vaKyL"
      },
      "source": [
        "# Essential List Methods\n",
        "\n",
        "* `L.append(e)`\n",
        "* `L.extend(L1)`\n",
        "* `L.insert(i, e)`\n",
        "* `L.remove(e)`\n",
        "* `L.pop(i)`\n",
        "* `L.sort()`\n",
        "* `L.reverse()`\n",
        "\n",
        "Important Note:\n",
        "* e = element\n",
        "* i = certain index in this list\n",
        "* WHENEVER WE APPLY A METHOD TO A LIST, IT IS CHANGED. There is no need to reassign the new list to the initial variable.\n",
        "\n",
        "There are several useful list methods, see http://docs.python.org/3/library/stdtypes.html#mutable-sequence-types:"
      ]
    },
    {
      "cell_type": "markdown",
      "metadata": {
        "id": "TDEg5fttaKyo"
      },
      "source": [
        "### List Methods: `append` vs. `extend` and `insert`"
      ]
    },
    {
      "cell_type": "code",
      "metadata": {
        "id": "f1ozRZa3aKyr",
        "outputId": "54da1535-49ea-48ae-b923-7f90a3707b17",
        "colab": {
          "base_uri": "https://localhost:8080/"
        }
      },
      "source": [
        "#example of append\n",
        "list_alpha = [1, 2, 3, 4]\n",
        "list_alpha.append(5)\n",
        "print(list_alpha)\n",
        "\n",
        "#example of extend\n",
        "list_alpha.extend([8, 7, 6])\n",
        "print(list_alpha)"
      ],
      "execution_count": null,
      "outputs": [
        {
          "output_type": "stream",
          "name": "stdout",
          "text": [
            "[1, 2, 3, 4, 5]\n",
            "[1, 2, 3, 4, 5, 8, 7, 6]\n"
          ]
        }
      ]
    },
    {
      "cell_type": "code",
      "source": [
        "#adding an element to a specific place (index) in a list\n",
        "list_beta = [1, 2, 3, 4]\n",
        "\n",
        "#insert method replaces 100 with number in index 3\n",
        "list_beta.insert(3,100)\n",
        "\n",
        "print(list_beta)"
      ],
      "metadata": {
        "colab": {
          "base_uri": "https://localhost:8080/"
        },
        "id": "TwGBYqwTyT8j",
        "outputId": "b75aefbe-34fd-4f97-8cc7-bdd83ab97bac"
      },
      "execution_count": null,
      "outputs": [
        {
          "output_type": "stream",
          "name": "stdout",
          "text": [
            "[1, 2, 3, 100, 4]\n"
          ]
        }
      ]
    },
    {
      "cell_type": "markdown",
      "metadata": {
        "id": "AvPNyTVCaKyz"
      },
      "source": [
        "### List Methods: `remove` vs. `pop`"
      ]
    },
    {
      "cell_type": "code",
      "metadata": {
        "id": "7wl_1Ib-aKy2",
        "colab": {
          "base_uri": "https://localhost:8080/"
        },
        "outputId": "66e0b389-6339-46f6-f85b-5cd62f3a71da"
      },
      "source": [
        "#remove method removes by element\n",
        "mylist = [1, 2, 3, 4]\n",
        "mylist.remove(1)\n",
        "print(mylist)\n",
        "\n",
        "#pop removes by index\n",
        "mylist = [1, 2, 3, 4]\n",
        "mylist.pop(1)\n",
        "print(mylist)"
      ],
      "execution_count": null,
      "outputs": [
        {
          "output_type": "stream",
          "name": "stdout",
          "text": [
            "[2, 3, 4]\n",
            "[1, 3, 4]\n"
          ]
        }
      ]
    },
    {
      "cell_type": "code",
      "source": [
        "#creating a list of random words to test remove and pop methods\n",
        "list_theta =  ['apple', 'journey', 'sunrise', 'laptop', 'forest', 'butterfly', 'ocean', 'mountain', 'river', 'whisper', 'galaxy', 'pencil']\n",
        "list_theta.pop(1) #removes string element in index 1 position\n",
        "list_theta.remove(\"apple\") #removes string element \"apple\"\n",
        "print(list_theta)"
      ],
      "metadata": {
        "colab": {
          "base_uri": "https://localhost:8080/"
        },
        "id": "zLHQRfzl054N",
        "outputId": "8c48fec7-538a-414c-b3ce-1b3d29f77a10"
      },
      "execution_count": null,
      "outputs": [
        {
          "output_type": "stream",
          "name": "stdout",
          "text": [
            "['sunrise', 'laptop', 'forest', 'butterfly', 'ocean', 'mountain', 'river', 'whisper', 'galaxy', 'pencil']\n"
          ]
        }
      ]
    },
    {
      "cell_type": "markdown",
      "metadata": {
        "id": "9bqxCKnhaKy-"
      },
      "source": [
        "### List Methods: `L.sort()` vs. `sorted(L)` and `reverse`"
      ]
    },
    {
      "cell_type": "code",
      "metadata": {
        "id": "-xz9Fa6baKy_",
        "outputId": "beb3e352-ffca-410d-8b8f-8f479ec0dd86",
        "colab": {
          "base_uri": "https://localhost:8080/"
        }
      },
      "source": [
        "#sort Low - High\n",
        "mylist = [4, 5, 2, 1, 3]\n",
        "mylist.sort()  # Sorts in-place. It is more efficient but overwrites the input.\n",
        "print(mylist)\n",
        "\n",
        "#sort High - Low\n",
        "mylist = [4, 5, 2, 1, 3]\n",
        "mylist.sort(reverse=True)  # Sorts in-place. It is more efficient but overwrites the input.\n",
        "print(mylist)\n",
        "\n",
        "mylist = ['apple', 'abble', 'Zebra', 'Horse', 'Lion', 'Cow']\n",
        "mylist.sort()  # Uppercase first and lowercase afterward.\n",
        "print(mylist)\n",
        "#string sort will do uppercase first and lowercase afterwards."
      ],
      "execution_count": null,
      "outputs": [
        {
          "output_type": "stream",
          "name": "stdout",
          "text": [
            "[1, 2, 3, 4, 5]\n",
            "[5, 4, 3, 2, 1]\n",
            "['Cow', 'Horse', 'Lion', 'Zebra', 'abble', 'apple']\n"
          ]
        }
      ]
    },
    {
      "cell_type": "markdown",
      "source": [
        "####sorted( list or tuple)\n",
        "\n",
        "The output of sorted function is always a list"
      ],
      "metadata": {
        "id": "dIBxczlLyn8C"
      }
    },
    {
      "cell_type": "code",
      "source": [
        "#Function - SORTED\n",
        "#Function can take a list and tuple\n",
        "#Note function does not change the original variale\n",
        "mylist = [10, 9, 6, 8, 7]\n",
        "print(sorted(mylist), mylist)\n",
        "\n",
        "\n",
        "newlist = sorted(mylist)  # Creates a new list that is sorted, not changing the original.\n",
        "print(mylist, newlist)\n",
        "\n",
        "mylist = ['b', 'C','a', 'e', 'D', 'H']\n",
        "print(sorted(mylist))\n",
        "\n",
        "mytuple=(11,4,-1,7,0)\n",
        "print(sorted(mytuple))\n",
        "\n",
        "mytuple=('b','a','n','m','z')\n",
        "print(sorted(mytuple))"
      ],
      "metadata": {
        "colab": {
          "base_uri": "https://localhost:8080/"
        },
        "id": "jeHK11lk0uTt",
        "outputId": "890c58ed-db55-4036-c3ed-575e9c35ecb2"
      },
      "execution_count": null,
      "outputs": [
        {
          "output_type": "stream",
          "name": "stdout",
          "text": [
            "[6, 7, 8, 9, 10] [10, 9, 6, 8, 7]\n",
            "[10, 9, 6, 8, 7] [6, 7, 8, 9, 10]\n",
            "['C', 'D', 'H', 'a', 'b', 'e']\n",
            "[-1, 0, 4, 7, 11]\n",
            "['a', 'b', 'm', 'n', 'z']\n"
          ]
        }
      ]
    },
    {
      "cell_type": "code",
      "source": [
        "#reverse method\n",
        "#reverse method does not sort then reserve. Reverses as presented.\n",
        "\n",
        "list_gamma = [4, 5, 2, 1, 3]\n",
        "print(list_gamma)\n",
        "list_gamma.reverse()\n",
        "print(mylist)"
      ],
      "metadata": {
        "colab": {
          "base_uri": "https://localhost:8080/"
        },
        "id": "frqaJXOE1eUB",
        "outputId": "0ea1c051-8bf5-4820-dbaf-10d22cd275b7"
      },
      "execution_count": null,
      "outputs": [
        {
          "output_type": "stream",
          "name": "stdout",
          "text": [
            "[4, 5, 2, 1, 3]\n",
            "[3, 1, 2, 5, 4]\n"
          ]
        }
      ]
    },
    {
      "cell_type": "markdown",
      "source": [
        "###Method output? None!"
      ],
      "metadata": {
        "id": "ehIquWxZ2GQI"
      }
    },
    {
      "cell_type": "code",
      "source": [
        "mylist = [4, 5, 2, 1, 3]\n",
        "\n",
        "print(mylist)\n",
        "\n",
        "mylist.sort()\n",
        "\n",
        "print (mylist)"
      ],
      "metadata": {
        "colab": {
          "base_uri": "https://localhost:8080/"
        },
        "id": "nn2z22Un2Jjp",
        "outputId": "cf04769c-2a00-42bb-dfc6-2d41fe6c9459"
      },
      "execution_count": null,
      "outputs": [
        {
          "output_type": "stream",
          "name": "stdout",
          "text": [
            "[4, 5, 2, 1, 3]\n",
            "[1, 2, 3, 4, 5]\n"
          ]
        }
      ]
    },
    {
      "cell_type": "code",
      "source": [
        "mylist = [4, 5, 2, 1, 3]\n",
        "\n",
        "print(mylist)\n",
        "\n",
        "newlist=mylist.sort()\n",
        "\n",
        "print (mylist)\n",
        "\n",
        "print(newlist) #why is this new list \"none\"\n",
        "#application of methods don't have an output"
      ],
      "metadata": {
        "colab": {
          "base_uri": "https://localhost:8080/"
        },
        "id": "NpUPgTLB2QAE",
        "outputId": "5b5d57e2-a0d5-47f4-89c4-ad81a2f43ecb"
      },
      "execution_count": null,
      "outputs": [
        {
          "output_type": "stream",
          "name": "stdout",
          "text": [
            "[4, 5, 2, 1, 3]\n",
            "[1, 2, 3, 4, 5]\n",
            "None\n"
          ]
        }
      ]
    },
    {
      "cell_type": "code",
      "source": [
        "mylist = [4, 5, 2, 1, 3]\n",
        "mylist.sort()\n",
        "print(mylist)"
      ],
      "metadata": {
        "id": "jsfEPgIzCb3f",
        "colab": {
          "base_uri": "https://localhost:8080/"
        },
        "outputId": "5722daec-95e5-4374-9146-8d980a873f0f"
      },
      "execution_count": null,
      "outputs": [
        {
          "output_type": "stream",
          "name": "stdout",
          "text": [
            "[1, 2, 3, 4, 5]\n"
          ]
        }
      ]
    }
  ]
}
