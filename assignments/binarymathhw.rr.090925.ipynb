{
 "cells": [
  {
   "cell_type": "markdown",
   "id": "2a962422",
   "metadata": {},
   "source": [
    "Binary Math Homework\n",
    "Decimal to Binary – Convert the following numbers from decimal to binary.\n",
    "1. Convert 12345 to binary.\n",
    "2. Convert 65535 to binary.\n",
    "3. Convert 32768 to binary.\n",
    "4. Convert 1024 to binary.\n",
    "5. Convert 5000 to binary."
   ]
  },
  {
   "cell_type": "code",
   "execution_count": null,
   "id": "86a938cd",
   "metadata": {},
   "outputs": [],
   "source": [
    "#prompts user to enter a decimal number with no constraints\n",
    "#converts to binary number displayed as a tuple\n",
    "\n",
    "#userinput\n",
    "decimal_number = int(input(\"Decimal Number: \"))\n",
    "\n",
    "#list to keep the remainder values\n",
    "binary = []\n",
    "\n",
    "#condition to continue while decimal value is not 0\n",
    "while decimal_number != 0:\n",
    "    #evaluate remainder\n",
    "    remainder = decimal_number % 2\n",
    "    #add remainder to existing list\n",
    "    binary.append(remainder)\n",
    "    #set new decimal_number value for next iteration\n",
    "    decimal_number = int(decimal_number / 2)\n",
    "\n",
    "#reverse to list binary values from last to first\n",
    "#convert to tuple since binary number should be immutable \n",
    "binary_values = tuple(binary[::-1])\n",
    "print((binary_values))"
   ]
  },
  {
   "cell_type": "markdown",
   "id": "86cc747e",
   "metadata": {},
   "source": [
    "Answers\n",
    "1. [1, 1, 0, 0, 0, 0, 0, 0, 1, 1, 1, 0, 0, 1]\n",
    "2. [1, 1, 1, 1, 1, 1, 1, 1, 1, 1, 1, 1, 1, 1, 1, 1]\n",
    "3. [1, 0, 0, 0, 0, 0, 0, 0, 0, 0, 0, 0, 0, 0, 0, 0]\n",
    "4. [1, 0, 0, 0, 0, 0, 0, 0, 0, 0, 0]\n",
    "5. [1, 0, 0, 1, 1, 1, 0, 0, 0, 1, 0, 0, 0]"
   ]
  },
  {
   "cell_type": "markdown",
   "id": "f7b16293",
   "metadata": {},
   "source": [
    "Binary to Decimal – Conver the following binary numbers to decimal\n",
    "1)\tConvert 10101100 to decimal.\n",
    "2)\tConvert 11111010 to decimal.\n",
    "3)\tConvert 01010010 to decimal.\n",
    "4)\tConvert 10001110 to decimal.\n",
    "5)\tConvert 00110011 to decimal."
   ]
  },
  {
   "cell_type": "code",
   "execution_count": null,
   "id": "50e34e9f",
   "metadata": {},
   "outputs": [],
   "source": [
    "#function converts binary numbers to decimal numbers\n",
    "#note: binary input isn't check for completeness \n",
    "\n",
    "def binary2decimal(binary):\n",
    "\n",
    "  binary_list = []\n",
    "  binary_math = []\n",
    "\n",
    "  for x in binary:\n",
    "    binary_list.append(int(x))\n",
    "\n",
    "  binary_count = len(binary) - 1\n",
    "  \n",
    "  while binary_count >= 0:\n",
    "    for x in binary_list:\n",
    "      y = x*(2**binary_count)\n",
    "      binary_math.append(y)\n",
    "      binary_count -= 1\n",
    "\n",
    "  decimal_number = sum(binary_math)\n",
    "\n",
    "  print(f\"Binary Number {binary} equates to Decimal Value {decimal_number}\")\n",
    "\n",
    "\n",
    "binary2decimal(\"10101100\")\n",
    "binary2decimal(\"11111010\")\n",
    "binary2decimal(\"101010010\")\n",
    "binary2decimal(\"10001110\")\n",
    "binary2decimal(\"00110011\")"
   ]
  },
  {
   "cell_type": "markdown",
   "id": "9d4c7019",
   "metadata": {},
   "source": [
    "Answers\n",
    "1. 172\n",
    "2. 250\n",
    "3. 338\n",
    "4. 142\n",
    "5. 51"
   ]
  }
 ],
 "metadata": {
  "kernelspec": {
   "display_name": "Python 3",
   "language": "python",
   "name": "python3"
  },
  "language_info": {
   "codemirror_mode": {
    "name": "ipython",
    "version": 3
   },
   "file_extension": ".py",
   "mimetype": "text/x-python",
   "name": "python",
   "nbconvert_exporter": "python",
   "pygments_lexer": "ipython3",
   "version": "3.13.2"
  }
 },
 "nbformat": 4,
 "nbformat_minor": 5
}
