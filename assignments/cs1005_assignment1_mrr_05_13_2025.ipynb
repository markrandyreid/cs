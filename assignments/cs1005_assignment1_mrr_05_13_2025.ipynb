{
  "nbformat": 4,
  "nbformat_minor": 0,
  "metadata": {
    "colab": {
      "provenance": []
    },
    "kernelspec": {
      "name": "python3",
      "display_name": "Python 3"
    },
    "language_info": {
      "name": "python"
    }
  },
  "cells": [
    {
      "cell_type": "code",
      "execution_count": 2,
      "metadata": {
        "colab": {
          "base_uri": "https://localhost:8080/"
        },
        "id": "G1AyY_kfR9C9",
        "outputId": "86b7caed-da5f-4c2d-d924-dccb256521a1"
      },
      "outputs": [
        {
          "output_type": "stream",
          "name": "stdout",
          "text": [
            "Python 3.11.12\n"
          ]
        }
      ],
      "source": [
        "!python --version"
      ]
    },
    {
      "cell_type": "markdown",
      "source": [
        "***ASSIGNMENT 1 QUESTION***\n",
        "\n",
        "Write an algorithm (in English, not Python!) for dividing two numbers and calculating the quotient and remainder. Your task is to create an algorithm for dividing A by B using subtraction.\n",
        "\n",
        "Assumptions:\n",
        "\n",
        "*   A and B are positive integers and non-zero.\n",
        "*   A > B\n",
        "*   A and B > 0\n"
      ],
      "metadata": {
        "id": "WUPi_YH1WpeA"
      }
    },
    {
      "cell_type": "markdown",
      "source": [
        "**Algorithm**\n",
        "\n",
        "Take 2 integer inputs:\n",
        "*   A, an integer.\n",
        "*   B, an integer such that B < A.\n",
        "\n",
        "Initialize counting variable:\n",
        "*   C, which counts how many times the condition A - B > B holds\n",
        "*   Set C = 0\n",
        "\n",
        "Process:     \n",
        "*   If A >= B            \n",
        "*   increment C by 1\n",
        "*   reassign A = A - B\n",
        "*   Redo Process, Until A < B\n",
        "*   Print C as Quotient and (Final) A as Remainder"
      ],
      "metadata": {
        "id": "8HGpSpF1Wt5k"
      }
    },
    {
      "cell_type": "code",
      "source": [
        "def div_by_subs(a,b):\n",
        "  quotient = 0\n",
        "\n",
        "  while a >= b:               #to capture scenerio where a = b, after i interations\n",
        "    quotient += 1             #counts every occurance where condition is true\n",
        "    a -= b                    #reduces a by b after every occurance\n",
        "  return quotient, a          #while loop should return a that violates condition and is therefore the remainder\n",
        "\n",
        "#example\n",
        "print(div_by_subs(15,4))\n",
        "print(div_by_subs(12093,1837))\n",
        "print(div_by_subs(3049242,11093))"
      ],
      "metadata": {
        "colab": {
          "base_uri": "https://localhost:8080/"
        },
        "id": "fad4qgePq_WY",
        "outputId": "8ba6dc5a-b9af-4b0d-a0a5-9252b36d0824"
      },
      "execution_count": 38,
      "outputs": [
        {
          "output_type": "stream",
          "name": "stdout",
          "text": [
            "(3, 3)\n",
            "(6, 1071)\n",
            "(274, 9760)\n"
          ]
        }
      ]
    },
    {
      "cell_type": "code",
      "source": [],
      "metadata": {
        "id": "6yZxvXDRqY6X"
      },
      "execution_count": null,
      "outputs": []
    }
  ]
}
