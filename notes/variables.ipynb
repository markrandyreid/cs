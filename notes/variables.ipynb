{
 "cells": [
  {
   "cell_type": "markdown",
   "id": "9b905002",
   "metadata": {},
   "source": [
    "***Variables*** are containers for storing data variables\n",
    "- there are no specific commands for declaring a variable\n",
    "- variables are created via assignment\n",
    "\n",
    "Rules for Naming Variables: \n",
    "- varibale names are case sensative and can be short (x or gamma) or long (greek_alpha)\n",
    "- must start with letter or underscore\n",
    "- cannot be any of the python keywords\n",
    "- cannot start with a number"
   ]
  },
  {
   "cell_type": "code",
   "execution_count": 19,
   "id": "d5cd15a4",
   "metadata": {},
   "outputs": [
    {
     "name": "stdout",
     "output_type": "stream",
     "text": [
      "8\n",
      "4\n"
     ]
    }
   ],
   "source": [
    "alpha = 8\n",
    "beta = 4\n",
    "print(alpha)\n",
    "print(beta)"
   ]
  },
  {
   "cell_type": "markdown",
   "id": "58413d14",
   "metadata": {},
   "source": [
    "***Casting*** is setting the variable type during assignment"
   ]
  },
  {
   "cell_type": "code",
   "execution_count": 20,
   "id": "6fc02f92",
   "metadata": {},
   "outputs": [
    {
     "name": "stdout",
     "output_type": "stream",
     "text": [
      "22, 1203, 203.0\n"
     ]
    }
   ],
   "source": [
    "alpha = str(22)\n",
    "beta = int(1203.3104)\n",
    "gamma = float(203)\n",
    "\n",
    "print(f'{alpha}, {beta}, {gamma}')\n"
   ]
  },
  {
   "cell_type": "markdown",
   "id": "5c6184f9",
   "metadata": {},
   "source": [
    "Identifying type of variable with a simple function: type(variable)"
   ]
  },
  {
   "cell_type": "code",
   "execution_count": 21,
   "id": "c344426e",
   "metadata": {},
   "outputs": [
    {
     "data": {
      "text/plain": [
       "str"
      ]
     },
     "execution_count": 21,
     "metadata": {},
     "output_type": "execute_result"
    }
   ],
   "source": [
    "alpha = str(22)\n",
    "type(alpha)"
   ]
  },
  {
   "cell_type": "markdown",
   "id": "ac031c00",
   "metadata": {},
   "source": [
    "String variables can be declared using single quotes or double quotes"
   ]
  },
  {
   "cell_type": "code",
   "execution_count": 22,
   "id": "b1ce5bbe",
   "metadata": {},
   "outputs": [
    {
     "name": "stdout",
     "output_type": "stream",
     "text": [
      "mark, rick\n"
     ]
    }
   ],
   "source": [
    "alpha = 'mark'\n",
    "beta = \"rick\"\n",
    "print(f'{alpha}, {beta}')"
   ]
  },
  {
   "cell_type": "markdown",
   "id": "bac424e7",
   "metadata": {},
   "source": [
    "***Assign Multiple Values***\n",
    "- Python enables users to assign values to multiple variables in a single line of code.\n",
    "- The number of variables must match the number of values to avoid errors\n",
    "- multiple variables can be assigned to a single value\n",
    "- ***Unpacking a list***\n",
    "    - a collection of values in a list or tuple can be extracted into variables."
   ]
  },
  {
   "cell_type": "code",
   "execution_count": 23,
   "id": "f45338fe",
   "metadata": {},
   "outputs": [
    {
     "name": "stdout",
     "output_type": "stream",
     "text": [
      "23,42,20,29\n"
     ]
    }
   ],
   "source": [
    "#multivarible assignment\n",
    "alpha, beta, gamma, delta = 23, 42, 20, 29\n",
    "print(f'{alpha},{beta},{gamma},{delta}')"
   ]
  },
  {
   "cell_type": "code",
   "execution_count": 24,
   "id": "35f3d720",
   "metadata": {},
   "outputs": [
    {
     "name": "stdout",
     "output_type": "stream",
     "text": [
      "34309,34309,34309\n"
     ]
    }
   ],
   "source": [
    "#many variables one value\n",
    "alpha = beta = gamma = 34309\n",
    "print(f'{alpha},{beta},{gamma}')"
   ]
  },
  {
   "cell_type": "code",
   "execution_count": 25,
   "id": "97cd37f3",
   "metadata": {},
   "outputs": [
    {
     "name": "stdout",
     "output_type": "stream",
     "text": [
      "23,42,23,9430\n"
     ]
    }
   ],
   "source": [
    "#unpacking a collection\n",
    "ages = [23,42,23,9430]\n",
    "alpha, beta, gamma, delta = ages\n",
    "print(f'{alpha},{beta},{gamma},{delta}')"
   ]
  },
  {
   "cell_type": "markdown",
   "id": "09e05a2f",
   "metadata": {},
   "source": [
    "***Global Variables***\n",
    "- variables created outside a function\n"
   ]
  },
  {
   "cell_type": "code",
   "execution_count": 26,
   "id": "43a233b4",
   "metadata": {},
   "outputs": [
    {
     "name": "stdout",
     "output_type": "stream",
     "text": [
      "Hello World\n"
     ]
    }
   ],
   "source": [
    "print('Hello','World')"
   ]
  },
  {
   "cell_type": "code",
   "execution_count": null,
   "id": "b5bf4797",
   "metadata": {},
   "outputs": [],
   "source": []
  }
 ],
 "metadata": {
  "kernelspec": {
   "display_name": "Python 3",
   "language": "python",
   "name": "python3"
  },
  "language_info": {
   "codemirror_mode": {
    "name": "ipython",
    "version": 3
   },
   "file_extension": ".py",
   "mimetype": "text/x-python",
   "name": "python",
   "nbconvert_exporter": "python",
   "pygments_lexer": "ipython3",
   "version": "3.13.2"
  }
 },
 "nbformat": 4,
 "nbformat_minor": 5
}
