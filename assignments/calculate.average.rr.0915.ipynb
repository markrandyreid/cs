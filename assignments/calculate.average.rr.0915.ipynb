{
 "cells": [
  {
   "cell_type": "markdown",
   "id": "7417ca9f",
   "metadata": {},
   "source": [
    "***Average Assignment***\n",
    "\n",
    "Task:\n",
    "- Print a line asking the user to enter three numbers\n",
    "- Prompt the user to enter the three integers, one at a time   \n",
    "- Display the three numbers entered, their sum, and the average.\n",
    "\n",
    "Constraints and Assumptions:\n",
    "- Positive integers only\n",
    "\n",
    "To do items (< 48 hours)\n",
    "- Code in constraints for inputs that will restart input request when non positive integers are received. "
   ]
  },
  {
   "cell_type": "code",
   "execution_count": 2,
   "id": "30c2556a",
   "metadata": {},
   "outputs": [
    {
     "name": "stdout",
     "output_type": "stream",
     "text": [
      "Enter three positive numbers\n",
      "\n",
      "You have selected: 30490, 2309 and 23094.\n",
      "\n",
      "The average of the numbers selected is 18631 and the sum is 55893.\n",
      "\n"
     ]
    }
   ],
   "source": [
    "print(\"Enter three positive numbers\\n\")\n",
    "\n",
    "number1 = int(input(\"Number 1:\"))\n",
    "number2 = int(input(\"Number 2:\"))\n",
    "number3 = int(input(\"Number 3:\"))\n",
    "\n",
    "input_sum = (number1 + number2 + number3)\n",
    "input_average = input_sum//3\n",
    "\n",
    "print(f'You have selected: {number1}, {number2} and {number3}.\\n')\n",
    "print(f'The average of the numbers selected is {input_average} and the sum is {input_sum}.\\n')"
   ]
  },
  {
   "cell_type": "markdown",
   "id": "bbdc4bb9",
   "metadata": {},
   "source": []
  }
 ],
 "metadata": {
  "kernelspec": {
   "display_name": "Python 3",
   "language": "python",
   "name": "python3"
  },
  "language_info": {
   "codemirror_mode": {
    "name": "ipython",
    "version": 3
   },
   "file_extension": ".py",
   "mimetype": "text/x-python",
   "name": "python",
   "nbconvert_exporter": "python",
   "pygments_lexer": "ipython3",
   "version": "3.13.2"
  }
 },
 "nbformat": 4,
 "nbformat_minor": 5
}
