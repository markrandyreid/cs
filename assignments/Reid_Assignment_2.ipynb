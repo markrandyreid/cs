{
  "nbformat": 4,
  "nbformat_minor": 0,
  "metadata": {
    "colab": {
      "provenance": [],
      "toc_visible": true
    },
    "kernelspec": {
      "name": "python3",
      "display_name": "Python 3"
    },
    "language_info": {
      "name": "python"
    }
  },
  "cells": [
    {
      "cell_type": "markdown",
      "source": [
        "**Problem**\n",
        "\n",
        "Write a program that divides two numbers (**a** by **b**) and generates the quotient (q) and remainder (r) <font color=red>without using division commands in Python. </font>\n",
        "\n",
        ">We want you to develop division using subtraction; the idea is to subtract **b** from **a** until subtraction is not possible anymore. When we divide **a** by **b**, we are trying to see how many times **b** will fit in **a** (quotient) and what will remain (remainder).\n",
        "\n",
        "<p><strong>Assumptions</strong></p>\n",
        "\n",
        "\n",
        "\n",
        "*   a is always greater than b (a>b)\n",
        "*   a and b are positive integers (a,b>0)\n",
        "*   a and b are not zero\n",
        "\n",
        "<p><strong>For Example,</strong></p>\n",
        "\n",
        "\n",
        "> if a=11 and b=4,\n",
        "\n",
        "> Your program should generate 2 as quotient and 3 as remainder"
      ],
      "metadata": {
        "id": "bmOPQ4FhKDJw"
      }
    },
    {
      "cell_type": "markdown",
      "source": [
        "<p><strong>Solution</strong></p>\n",
        "Do not change the variable names a, b, q, or r in the code block below.\n",
        "\n",
        "Complete the code so that when you change the values of a and b, your code correctly prints the **quotient** (q) and the **remainder** (r)."
      ],
      "metadata": {
        "id": "e0PbL27GwBay"
      }
    },
    {
      "cell_type": "code",
      "execution_count": null,
      "metadata": {
        "id": "8NyCBpNIvKqt",
        "colab": {
          "base_uri": "https://localhost:8080/"
        },
        "outputId": "1b261da5-12c5-41bf-d7d0-2eb97bb9f663"
      },
      "outputs": [
        {
          "output_type": "stream",
          "name": "stdout",
          "text": [
            "Quotient is 2\n",
            "Remainder is 3\n"
          ]
        }
      ],
      "source": [
        "a=11\n",
        "b=4\n",
        "\n",
        "# Write Your here:\n",
        "\n",
        "q=0\n",
        "\n",
        "while a >= b:             #condition necessary for division without substraction\n",
        "  q += 1                  #adding 1 to q for every occurance of a - b while a >= b\n",
        "  a -= b                  #refreshing the value of a after each occurance\n",
        "  r = a                   #setting the remainder to the final value of a when the condition is violated\n",
        "\n",
        "#Do not change the print statements below\n",
        "print(\"Quotient is\",q)\n",
        "print(\"Remainder is\",r)"
      ]
    },
    {
      "cell_type": "code",
      "source": [],
      "metadata": {
        "id": "VIk318QkzezD"
      },
      "execution_count": null,
      "outputs": []
    }
  ]
}